{
 "cells": [
  {
   "cell_type": "code",
   "execution_count": 1,
   "id": "4bc7aa29-798a-4a21-b9ee-c17e8a36225f",
   "metadata": {},
   "outputs": [],
   "source": [
    "import pandas as pd\n",
    "df_flight = pd.read_csv('df_final_filtered.csv')"
   ]
  },
  {
   "cell_type": "markdown",
   "id": "612ce78d-975c-47da-b1c1-2cb635255827",
   "metadata": {},
   "source": [
    "###### XGBoost"
   ]
  },
  {
   "cell_type": "code",
   "execution_count": 2,
   "id": "c2598966-8334-407a-aed5-d28ec69ea525",
   "metadata": {},
   "outputs": [
    {
     "data": {
      "text/plain": [
       "Index(['Unnamed: 0', 'weekday', 'mkt_unique_carrier', 'mkt_carrier_fl_num',\n",
       "       'dep_delay', 'taxi_out', 'taxi_in', 'arr_delay', 'crs_elapsed_time',\n",
       "       'crs_dep_time', 'crs_arr_time', 'actual_elapsed_time', 'air_time',\n",
       "       'distance', 'origin_airport_id', 'dest_airport_id'],\n",
       "      dtype='object')"
      ]
     },
     "execution_count": 2,
     "metadata": {},
     "output_type": "execute_result"
    }
   ],
   "source": [
    "df_flight.columns"
   ]
  },
  {
   "cell_type": "code",
   "execution_count": 3,
   "id": "116a63f3-2fc6-4468-8dbc-2abac17f6b90",
   "metadata": {},
   "outputs": [
    {
     "data": {
      "text/plain": [
       "{dtype('int64'): Index(['Unnamed: 0', 'weekday', 'mkt_unique_carrier', 'mkt_carrier_fl_num',\n",
       "        'crs_dep_time', 'crs_arr_time', 'origin_airport_id', 'dest_airport_id'],\n",
       "       dtype='object'),\n",
       " dtype('float64'): Index(['dep_delay', 'taxi_out', 'taxi_in', 'arr_delay', 'crs_elapsed_time',\n",
       "        'actual_elapsed_time', 'air_time', 'distance'],\n",
       "       dtype='object')}"
      ]
     },
     "execution_count": 3,
     "metadata": {},
     "output_type": "execute_result"
    }
   ],
   "source": [
    "df_flight.columns.to_series().groupby(df_flight.dtypes).groups"
   ]
  },
  {
   "cell_type": "code",
   "execution_count": 4,
   "id": "8a5194c4-f371-49ba-a9eb-9da2448495f4",
   "metadata": {},
   "outputs": [],
   "source": [
    " #df_flight = df_flight[['mkt_unique_carrier', 'mkt_carrier_fl_num', 'origin_airport_id', 'dest_airport_id', 'crs_dep_time', \\\n",
    " #                       'crs_arr_time', 'crs_elapsed_time','distance', 'arr_delay', 'weekday']]"
   ]
  },
  {
   "cell_type": "code",
   "execution_count": 5,
   "id": "5e51b092-38fc-4504-8f35-b66096a21fce",
   "metadata": {},
   "outputs": [
    {
     "data": {
      "text/plain": [
       "(296648, 16)"
      ]
     },
     "execution_count": 5,
     "metadata": {},
     "output_type": "execute_result"
    }
   ],
   "source": [
    "df_flight.shape"
   ]
  },
  {
   "cell_type": "code",
   "execution_count": 6,
   "id": "2bed57d1-48ce-4e16-8767-9254e55b95ae",
   "metadata": {},
   "outputs": [],
   "source": [
    "df_flight = df_flight.drop(['dep_delay', 'taxi_out', 'taxi_in', 'actual_elapsed_time', 'air_time'], axis = 1)"
   ]
  },
  {
   "cell_type": "code",
   "execution_count": 7,
   "id": "4549f368-f7d3-4256-b16c-3a7a5db01184",
   "metadata": {},
   "outputs": [],
   "source": [
    "df_flight = df_flight.drop(['Unnamed: 0', 'weekday'], axis = 1)"
   ]
  },
  {
   "cell_type": "code",
   "execution_count": 8,
   "id": "fcf93468-da74-4ad8-8937-20e047ae205a",
   "metadata": {},
   "outputs": [
    {
     "data": {
      "text/plain": [
       "(296648, 9)"
      ]
     },
     "execution_count": 8,
     "metadata": {},
     "output_type": "execute_result"
    }
   ],
   "source": [
    "df_flight.shape"
   ]
  },
  {
   "cell_type": "code",
   "execution_count": 9,
   "id": "f4fb75dd-d6e0-48c9-8416-fee03c52e579",
   "metadata": {},
   "outputs": [
    {
     "data": {
      "text/html": [
       "<div>\n",
       "<style scoped>\n",
       "    .dataframe tbody tr th:only-of-type {\n",
       "        vertical-align: middle;\n",
       "    }\n",
       "\n",
       "    .dataframe tbody tr th {\n",
       "        vertical-align: top;\n",
       "    }\n",
       "\n",
       "    .dataframe thead th {\n",
       "        text-align: right;\n",
       "    }\n",
       "</style>\n",
       "<table border=\"1\" class=\"dataframe\">\n",
       "  <thead>\n",
       "    <tr style=\"text-align: right;\">\n",
       "      <th></th>\n",
       "      <th>mkt_unique_carrier</th>\n",
       "      <th>mkt_carrier_fl_num</th>\n",
       "      <th>arr_delay</th>\n",
       "      <th>crs_elapsed_time</th>\n",
       "      <th>crs_dep_time</th>\n",
       "      <th>crs_arr_time</th>\n",
       "      <th>distance</th>\n",
       "      <th>origin_airport_id</th>\n",
       "      <th>dest_airport_id</th>\n",
       "    </tr>\n",
       "  </thead>\n",
       "  <tbody>\n",
       "    <tr>\n",
       "      <th>count</th>\n",
       "      <td>296648.000000</td>\n",
       "      <td>296648.000000</td>\n",
       "      <td>296648.000000</td>\n",
       "      <td>296648.000000</td>\n",
       "      <td>296648.000000</td>\n",
       "      <td>296648.000000</td>\n",
       "      <td>296648.000000</td>\n",
       "      <td>296648.000000</td>\n",
       "      <td>296648.000000</td>\n",
       "    </tr>\n",
       "    <tr>\n",
       "      <th>mean</th>\n",
       "      <td>4.214584</td>\n",
       "      <td>2724.782038</td>\n",
       "      <td>1.284549</td>\n",
       "      <td>137.849411</td>\n",
       "      <td>1332.244967</td>\n",
       "      <td>1484.501618</td>\n",
       "      <td>759.353678</td>\n",
       "      <td>12673.373234</td>\n",
       "      <td>12669.004180</td>\n",
       "    </tr>\n",
       "    <tr>\n",
       "      <th>std</th>\n",
       "      <td>3.545654</td>\n",
       "      <td>1807.789330</td>\n",
       "      <td>47.293846</td>\n",
       "      <td>70.042401</td>\n",
       "      <td>491.802791</td>\n",
       "      <td>520.601242</td>\n",
       "      <td>573.713154</td>\n",
       "      <td>1525.282000</td>\n",
       "      <td>1523.789424</td>\n",
       "    </tr>\n",
       "    <tr>\n",
       "      <th>min</th>\n",
       "      <td>0.000000</td>\n",
       "      <td>1.000000</td>\n",
       "      <td>-68.000000</td>\n",
       "      <td>19.000000</td>\n",
       "      <td>5.000000</td>\n",
       "      <td>1.000000</td>\n",
       "      <td>31.000000</td>\n",
       "      <td>10135.000000</td>\n",
       "      <td>10135.000000</td>\n",
       "    </tr>\n",
       "    <tr>\n",
       "      <th>25%</th>\n",
       "      <td>0.000000</td>\n",
       "      <td>1159.000000</td>\n",
       "      <td>-16.000000</td>\n",
       "      <td>88.000000</td>\n",
       "      <td>917.000000</td>\n",
       "      <td>1101.000000</td>\n",
       "      <td>342.000000</td>\n",
       "      <td>11292.000000</td>\n",
       "      <td>11292.000000</td>\n",
       "    </tr>\n",
       "    <tr>\n",
       "      <th>50%</th>\n",
       "      <td>3.000000</td>\n",
       "      <td>2381.000000</td>\n",
       "      <td>-8.000000</td>\n",
       "      <td>120.000000</td>\n",
       "      <td>1325.000000</td>\n",
       "      <td>1515.000000</td>\n",
       "      <td>602.000000</td>\n",
       "      <td>12889.000000</td>\n",
       "      <td>12889.000000</td>\n",
       "    </tr>\n",
       "    <tr>\n",
       "      <th>75%</th>\n",
       "      <td>8.000000</td>\n",
       "      <td>4167.000000</td>\n",
       "      <td>3.000000</td>\n",
       "      <td>166.000000</td>\n",
       "      <td>1736.000000</td>\n",
       "      <td>1919.000000</td>\n",
       "      <td>990.000000</td>\n",
       "      <td>14057.000000</td>\n",
       "      <td>14057.000000</td>\n",
       "    </tr>\n",
       "    <tr>\n",
       "      <th>max</th>\n",
       "      <td>9.000000</td>\n",
       "      <td>9343.000000</td>\n",
       "      <td>1910.000000</td>\n",
       "      <td>690.000000</td>\n",
       "      <td>2359.000000</td>\n",
       "      <td>2400.000000</td>\n",
       "      <td>5095.000000</td>\n",
       "      <td>16869.000000</td>\n",
       "      <td>16869.000000</td>\n",
       "    </tr>\n",
       "  </tbody>\n",
       "</table>\n",
       "</div>"
      ],
      "text/plain": [
       "       mkt_unique_carrier  mkt_carrier_fl_num      arr_delay  \\\n",
       "count       296648.000000       296648.000000  296648.000000   \n",
       "mean             4.214584         2724.782038       1.284549   \n",
       "std              3.545654         1807.789330      47.293846   \n",
       "min              0.000000            1.000000     -68.000000   \n",
       "25%              0.000000         1159.000000     -16.000000   \n",
       "50%              3.000000         2381.000000      -8.000000   \n",
       "75%              8.000000         4167.000000       3.000000   \n",
       "max              9.000000         9343.000000    1910.000000   \n",
       "\n",
       "       crs_elapsed_time   crs_dep_time   crs_arr_time       distance  \\\n",
       "count     296648.000000  296648.000000  296648.000000  296648.000000   \n",
       "mean         137.849411    1332.244967    1484.501618     759.353678   \n",
       "std           70.042401     491.802791     520.601242     573.713154   \n",
       "min           19.000000       5.000000       1.000000      31.000000   \n",
       "25%           88.000000     917.000000    1101.000000     342.000000   \n",
       "50%          120.000000    1325.000000    1515.000000     602.000000   \n",
       "75%          166.000000    1736.000000    1919.000000     990.000000   \n",
       "max          690.000000    2359.000000    2400.000000    5095.000000   \n",
       "\n",
       "       origin_airport_id  dest_airport_id  \n",
       "count      296648.000000    296648.000000  \n",
       "mean        12673.373234     12669.004180  \n",
       "std          1525.282000      1523.789424  \n",
       "min         10135.000000     10135.000000  \n",
       "25%         11292.000000     11292.000000  \n",
       "50%         12889.000000     12889.000000  \n",
       "75%         14057.000000     14057.000000  \n",
       "max         16869.000000     16869.000000  "
      ]
     },
     "execution_count": 9,
     "metadata": {},
     "output_type": "execute_result"
    }
   ],
   "source": [
    "df_flight.describe()"
   ]
  },
  {
   "cell_type": "code",
   "execution_count": 10,
   "id": "14c0365e-47ff-4b38-b8ca-46c70b1d3232",
   "metadata": {},
   "outputs": [
    {
     "data": {
      "text/plain": [
       "(296648, 8)"
      ]
     },
     "execution_count": 10,
     "metadata": {},
     "output_type": "execute_result"
    }
   ],
   "source": [
    "X = df_flight.drop(['arr_delay'], axis=1)\n",
    "X.shape"
   ]
  },
  {
   "cell_type": "code",
   "execution_count": 11,
   "id": "ded8dcae-4f9a-461b-818a-34578427cc3a",
   "metadata": {},
   "outputs": [],
   "source": [
    "y = df_flight['arr_delay']"
   ]
  },
  {
   "cell_type": "code",
   "execution_count": 12,
   "id": "8e210f59-bd80-4b43-819f-025d91d5dcb1",
   "metadata": {},
   "outputs": [
    {
     "data": {
      "text/plain": [
       "(296648,)"
      ]
     },
     "execution_count": 12,
     "metadata": {},
     "output_type": "execute_result"
    }
   ],
   "source": [
    "y.shape"
   ]
  },
  {
   "cell_type": "code",
   "execution_count": 13,
   "id": "e3482a4f-c9c0-40c1-b2b6-819e4d56f1be",
   "metadata": {},
   "outputs": [],
   "source": [
    "from xgboost import XGBClassifier\n",
    "from sklearn.model_selection import GridSearchCV\n",
    "from sklearn.model_selection import StratifiedKFold"
   ]
  },
  {
   "cell_type": "code",
   "execution_count": 14,
   "id": "38fc2ea4-3964-4efb-a8a0-5432ef853907",
   "metadata": {},
   "outputs": [],
   "source": [
    "from sklearn.model_selection import train_test_split\n",
    "X_train, X_test, y_train, y_test = train_test_split(X,y,test_size=.1, random_state=42)"
   ]
  },
  {
   "cell_type": "code",
   "execution_count": 15,
   "id": "1dc88c9b-bc4c-4ee5-8649-e1bffaf75309",
   "metadata": {},
   "outputs": [],
   "source": [
    "import xgboost as xgb\n",
    "dtrain = xgb.DMatrix(X_train, label=y_train)\n",
    "dtest = xgb.DMatrix(X_test, label=y_test)"
   ]
  },
  {
   "cell_type": "code",
   "execution_count": 16,
   "id": "ba4e3bb3-cb99-4404-818d-7e79ec53757c",
   "metadata": {},
   "outputs": [],
   "source": [
    "from sklearn.metrics import mean_absolute_error, mean_squared_error, r2_score"
   ]
  },
  {
   "cell_type": "code",
   "execution_count": 17,
   "id": "6c4c8b13-b9e9-4365-860a-640b48bb97fc",
   "metadata": {},
   "outputs": [],
   "source": [
    "import numpy as np"
   ]
  },
  {
   "cell_type": "code",
   "execution_count": 18,
   "id": "be286fe0-319d-4509-be91-57656221b13c",
   "metadata": {},
   "outputs": [],
   "source": [
    "# \"Learn\" the mean from the training data\n",
    "mean_train = np.mean(y_train)"
   ]
  },
  {
   "cell_type": "code",
   "execution_count": 19,
   "id": "6aae2a74-d041-46dd-bfcb-a43800611e7b",
   "metadata": {},
   "outputs": [],
   "source": [
    "# Get predictions on the test set\n",
    "baseline_predictions = np.ones(y_test.shape) * mean_train"
   ]
  },
  {
   "cell_type": "code",
   "execution_count": 20,
   "id": "a1b95400-1bda-4622-8a68-17896f0e0743",
   "metadata": {},
   "outputs": [
    {
     "name": "stdout",
     "output_type": "stream",
     "text": [
      "Baseline RMSE is 48.25\n"
     ]
    }
   ],
   "source": [
    "# Compute RMSE\n",
    "rmse_baseline = np.sqrt(mean_squared_error(y_test, baseline_predictions))\n",
    "print(\"Baseline RMSE is {:.2f}\".format(rmse_baseline))"
   ]
  },
  {
   "cell_type": "code",
   "execution_count": 21,
   "id": "17b5465b-33f7-449f-afe5-112a488659b5",
   "metadata": {},
   "outputs": [],
   "source": [
    "params = {\n",
    "    # Parameters that we are going to tune.\n",
    "    'max_depth':6,\n",
    "    'min_child_weight': 1,\n",
    "    'eta':.3,\n",
    "    'subsample': 1,\n",
    "    'colsample_bytree': 1,\n",
    "    # Other parameters\n",
    "    'objective':'reg:squarederror',\n",
    "}"
   ]
  },
  {
   "cell_type": "code",
   "execution_count": 22,
   "id": "686d4310-ec85-4877-9e29-859e4a8c1f88",
   "metadata": {},
   "outputs": [],
   "source": [
    "params['eval_metric'] = \"rmse\""
   ]
  },
  {
   "cell_type": "code",
   "execution_count": 23,
   "id": "a2a24f6c-57b8-4527-8159-d9fb4c61bbc5",
   "metadata": {},
   "outputs": [],
   "source": [
    "num_boost_round = 999"
   ]
  },
  {
   "cell_type": "code",
   "execution_count": 24,
   "id": "700eeeca-71a5-4e64-abc8-fe0ddda89eb4",
   "metadata": {},
   "outputs": [
    {
     "name": "stdout",
     "output_type": "stream",
     "text": [
      "[0]\tTest-rmse:48.16791\n",
      "[1]\tTest-rmse:48.11553\n",
      "[2]\tTest-rmse:48.08458\n",
      "[3]\tTest-rmse:48.04057\n",
      "[4]\tTest-rmse:48.02132\n",
      "[5]\tTest-rmse:47.98193\n",
      "[6]\tTest-rmse:47.96070\n",
      "[7]\tTest-rmse:47.94619\n",
      "[8]\tTest-rmse:47.92211\n",
      "[9]\tTest-rmse:47.91648\n",
      "[10]\tTest-rmse:47.90229\n",
      "[11]\tTest-rmse:47.89299\n",
      "[12]\tTest-rmse:47.88561\n",
      "[13]\tTest-rmse:47.88354\n",
      "[14]\tTest-rmse:47.88248\n",
      "[15]\tTest-rmse:47.88219\n",
      "[16]\tTest-rmse:47.88258\n",
      "[17]\tTest-rmse:47.88807\n",
      "[18]\tTest-rmse:47.87606\n",
      "[19]\tTest-rmse:47.87868\n",
      "[20]\tTest-rmse:47.87607\n",
      "[21]\tTest-rmse:47.87073\n",
      "[22]\tTest-rmse:47.87242\n",
      "[23]\tTest-rmse:47.88034\n",
      "[24]\tTest-rmse:47.87823\n",
      "[25]\tTest-rmse:47.88150\n",
      "[26]\tTest-rmse:47.88448\n",
      "[27]\tTest-rmse:47.85974\n",
      "[28]\tTest-rmse:47.85905\n",
      "[29]\tTest-rmse:47.86127\n",
      "[30]\tTest-rmse:47.86693\n",
      "[31]\tTest-rmse:47.86996\n",
      "[32]\tTest-rmse:47.87197\n",
      "[33]\tTest-rmse:47.87167\n",
      "[34]\tTest-rmse:47.88476\n",
      "[35]\tTest-rmse:47.89209\n",
      "[36]\tTest-rmse:47.89498\n",
      "[37]\tTest-rmse:47.89362\n"
     ]
    }
   ],
   "source": [
    "model = xgb.train(\n",
    "    params,\n",
    "    dtrain,\n",
    "    num_boost_round=num_boost_round,\n",
    "    evals=[(dtest, \"Test\")],\n",
    "    early_stopping_rounds=10\n",
    ")"
   ]
  },
  {
   "cell_type": "code",
   "execution_count": 25,
   "id": "68dcd7d3-b607-486b-8b58-019db192dc74",
   "metadata": {},
   "outputs": [
    {
     "name": "stdout",
     "output_type": "stream",
     "text": [
      "[0]\tTest-rmse:48.16791\n",
      "[1]\tTest-rmse:48.11553\n",
      "[2]\tTest-rmse:48.08458\n",
      "[3]\tTest-rmse:48.04057\n",
      "[4]\tTest-rmse:48.02132\n",
      "[5]\tTest-rmse:47.98193\n",
      "[6]\tTest-rmse:47.96070\n",
      "[7]\tTest-rmse:47.94619\n",
      "[8]\tTest-rmse:47.92211\n",
      "[9]\tTest-rmse:47.91648\n",
      "[10]\tTest-rmse:47.90229\n",
      "[11]\tTest-rmse:47.89299\n",
      "[12]\tTest-rmse:47.88561\n",
      "[13]\tTest-rmse:47.88354\n",
      "[14]\tTest-rmse:47.88248\n",
      "[15]\tTest-rmse:47.88219\n",
      "[16]\tTest-rmse:47.88258\n",
      "[17]\tTest-rmse:47.88807\n",
      "[18]\tTest-rmse:47.87606\n",
      "[19]\tTest-rmse:47.87868\n",
      "[20]\tTest-rmse:47.87607\n",
      "[21]\tTest-rmse:47.87073\n",
      "[22]\tTest-rmse:47.87242\n",
      "[23]\tTest-rmse:47.88034\n",
      "[24]\tTest-rmse:47.87823\n",
      "[25]\tTest-rmse:47.88150\n",
      "[26]\tTest-rmse:47.88448\n",
      "[27]\tTest-rmse:47.85974\n",
      "[28]\tTest-rmse:47.85905\n"
     ]
    }
   ],
   "source": [
    "# Saving your model\n",
    "# Although we found the best number of rounds, our model has been trained with more rounds than optimal, \n",
    "# thus before using it for predictions, we should retrain it with the good number of rounds. \n",
    "# Since we now the exact best num_boost_round, we don't need the early_stopping_round anymore.\n",
    "num_boost_round = model.best_iteration + 1\n",
    "best_model = xgb.train(\n",
    "    params,\n",
    "    dtrain,\n",
    "    num_boost_round=num_boost_round,\n",
    "    evals=[(dtest, \"Test\")]\n",
    ")"
   ]
  },
  {
   "cell_type": "code",
   "execution_count": 26,
   "id": "a5b55cb8-d537-49bf-9975-310470e9a65b",
   "metadata": {},
   "outputs": [
    {
     "data": {
      "text/plain": [
       "21.02989944713917"
      ]
     },
     "execution_count": 26,
     "metadata": {},
     "output_type": "execute_result"
    }
   ],
   "source": [
    "# All good, now let’s use our model to make predictions. We will use the test dataset and compute MAE with the scikit-learn function. \n",
    "# We should obtain the same score as promised in the last round of training, let’s check!\n",
    "mean_absolute_error(best_model.predict(dtest), y_test)"
   ]
  },
  {
   "cell_type": "code",
   "execution_count": 27,
   "id": "e2287007-b60d-4f84-8e8a-194c757e3737",
   "metadata": {},
   "outputs": [
    {
     "data": {
      "text/plain": [
       "47.85903241273828"
      ]
     },
     "execution_count": 27,
     "metadata": {},
     "output_type": "execute_result"
    }
   ],
   "source": [
    "np.sqrt(mean_squared_error(best_model.predict(dtest), y_test))"
   ]
  },
  {
   "cell_type": "code",
   "execution_count": 28,
   "id": "deb88996-da5f-4eed-97cf-2506dc5e5bed",
   "metadata": {},
   "outputs": [
    {
     "data": {
      "text/plain": [
       "0.016211647412547325"
      ]
     },
     "execution_count": 28,
     "metadata": {},
     "output_type": "execute_result"
    }
   ],
   "source": [
    "r2 = r2_score(y_test, best_model.predict(dtest))\n",
    "r2"
   ]
  },
  {
   "cell_type": "code",
   "execution_count": 29,
   "id": "c4a4db9f-2afd-456d-a710-b46b589ae125",
   "metadata": {},
   "outputs": [],
   "source": [
    "# save model to a file, here is how you can do it with XGBoost:\n",
    "best_model.save_model(\"my_xgb_model.model\")"
   ]
  },
  {
   "cell_type": "code",
   "execution_count": 30,
   "id": "e3a31d88-6d94-4650-99b4-51eeb85ba662",
   "metadata": {},
   "outputs": [
    {
     "data": {
      "text/plain": [
       "array([12.651046, -6.203861,  4.589657, ..., 12.863008, -4.814479,\n",
       "        4.948316], dtype=float32)"
      ]
     },
     "execution_count": 30,
     "metadata": {},
     "output_type": "execute_result"
    }
   ],
   "source": [
    "# You can then load the model later with:\n",
    "loaded_model = xgb.Booster()\n",
    "loaded_model.load_model(\"my_xgb_model.model\")\n",
    "\n",
    "# And use it for predictions.\n",
    "predicts = loaded_model.predict(dtest)\n",
    "predicts"
   ]
  },
  {
   "cell_type": "code",
   "execution_count": 31,
   "id": "2f3f5ae3-7af7-4b5d-bb50-bcd23ede2d32",
   "metadata": {},
   "outputs": [
    {
     "data": {
      "text/plain": [
       "0.016211647412547325"
      ]
     },
     "execution_count": 31,
     "metadata": {},
     "output_type": "execute_result"
    }
   ],
   "source": [
    "r2 = r2_score(y_test, predicts)\n",
    "r2"
   ]
  },
  {
   "cell_type": "code",
   "execution_count": 32,
   "id": "3910d40d-75fb-44cf-b752-196dfc378b1d",
   "metadata": {},
   "outputs": [
    {
     "data": {
      "image/png": "[encoded data removed]",
      "text/plain": [
       "<Figure size 432x288 with 1 Axes>"
      ]
     },
     "metadata": {
      "needs_background": "light"
     },
     "output_type": "display_data"
    }
   ],
   "source": [
    "# Examine the importance of each feature column in the original dataset within the model.\n",
    "# One simple way of doing this involves counting the number of times each feature is split on across all boosting rounds (trees) in the model, \n",
    "# and then visualizing the result as a bar graph, with the features ordered according to how many times they appear\n",
    "from matplotlib import pyplot as plt\n",
    "xgb.plot_importance(model)\n",
    "plt.rcParams['figure.figsize'] = [5, 10]\n",
    "plt.show()"
   ]
  },
  {
   "cell_type": "code",
   "execution_count": 33,
   "id": "aa51e714-9f80-425d-bea7-e521d6a63c68",
   "metadata": {},
   "outputs": [
    {
     "data": {
      "text/plain": [
       "Index(['mkt_unique_carrier', 'mkt_carrier_fl_num', 'arr_delay',\n",
       "       'crs_elapsed_time', 'crs_dep_time', 'crs_arr_time', 'distance',\n",
       "       'origin_airport_id', 'dest_airport_id'],\n",
       "      dtype='object')"
      ]
     },
     "execution_count": 33,
     "metadata": {},
     "output_type": "execute_result"
    }
   ],
   "source": [
    "df_flight.columns"
   ]
  }
 ],
 "metadata": {
  "kernelspec": {
   "display_name": "Python 3",
   "language": "python",
   "name": "python3"
  },
  "language_info": {
   "codemirror_mode": {
    "name": "ipython",
    "version": 3
   },
   "file_extension": ".py",
   "mimetype": "text/x-python",
   "name": "python",
   "nbconvert_exporter": "python",
   "pygments_lexer": "ipython3",
   "version": "3.8.8"
  }
 },
 "nbformat": 4,
 "nbformat_minor": 5
}
